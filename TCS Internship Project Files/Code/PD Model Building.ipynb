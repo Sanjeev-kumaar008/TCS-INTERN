{
 "cells": [
  {
   "cell_type": "markdown",
   "id": "715bb2bb",
   "metadata": {},
   "source": [
    "## Import Required Libraries"
   ]
  },
  {
   "cell_type": "code",
   "execution_count": 104,
   "id": "ae4d2b71",
   "metadata": {},
   "outputs": [],
   "source": [
    "import pandas as pd\n",
    "import numpy as np\n",
    "import math\n",
    "from sklearn.preprocessing import LabelEncoder\n",
    "from sklearn.model_selection import train_test_split\n",
    "from sklearn.model_selection import GroupShuffleSplit\n",
    "from sklearn.linear_model import LogisticRegression\n",
    "import statsmodels.api as sm\n",
    "from sklearn.metrics import accuracy_score,roc_auc_score\n",
    "from sklearn import metrics\n",
    "from scipy.stats import kstest\n",
    "import matplotlib.pyplot as plt"
   ]
  },
  {
   "cell_type": "markdown",
   "id": "6dee052c",
   "metadata": {},
   "source": [
    "### Read data"
   ]
  },
  {
   "cell_type": "code",
   "execution_count": 105,
   "id": "ede7001c",
   "metadata": {},
   "outputs": [
    {
     "name": "stderr",
     "output_type": "stream",
     "text": [
      "C:\\Users\\ASUS\\anaconda3\\lib\\site-packages\\numpy\\lib\\arraysetops.py:580: FutureWarning: elementwise comparison failed; returning scalar instead, but in the future will perform elementwise comparison\n",
      "  mask |= (ar1 == a)\n"
     ]
    }
   ],
   "source": [
    "data=pd.read_csv(r'D:\\TCS Internship\\Project\\Sample Data\\Final_data.csv',index_col= 0,low_memory=False)"
   ]
  },
  {
   "cell_type": "code",
   "execution_count": 82,
   "id": "a3fb682b",
   "metadata": {},
   "outputs": [
    {
     "data": {
      "text/plain": [
       "Index(['Credit_score', 'First_pay_dt', 'First_time_HB_Flag', 'Maturity_dt',\n",
       "       'MSA', 'Mortgage_Ins%', 'No_of_units', 'Occupancy_status', 'Orig_CLTV',\n",
       "       'Orig_DTI_ratio', 'Orig_UPB', 'Orig_LTV', 'Orig_Interest_rate',\n",
       "       'Channel', 'PPM_flag', 'Prod_type', 'Property_state', 'Property_type',\n",
       "       'Postal_code', 'Loan_seq_no', 'loan_purpose', 'Orig_loan_term',\n",
       "       'No_of_borrowers', 'Seller_name', 'Service_name', 'Super_conf_flag',\n",
       "       'Pre_harp_loan_seq_no', 'Prog_indicator', 'Harp_indicator',\n",
       "       'Prop_val_method', 'Interest_only_Indicator', 'filename',\n",
       "       'Monthly_report_period', 'Curr_act_UPB', 'Curr_loan_delinq_status',\n",
       "       'Loan_age', 'Remain_month_legal_maturity', 'Repurchase_flag',\n",
       "       'Modify_flag', 'Zero_bal_code', 'Zero_bal_effective_dt',\n",
       "       'Curr_interest_rate', 'Curr_def_UPB', 'Due_dt_of_LPI', 'MI_recov',\n",
       "       'Net_sales_proceeds', 'Non_MI_recov', 'Expenses', 'Legal_costs',\n",
       "       'Maintenance_preserv_costs', 'Tax_&_Ins', 'Misc_Exp', 'Act_loss_cal',\n",
       "       'Modify_cost', 'Step_modify_flag', 'Def_payment_plan', 'Est_LTV',\n",
       "       'Zero_bal_rem_UPB', 'Delinq_acc_interest', 'Delinq_due_disaster',\n",
       "       'Borrower_ass_status_code', 'Current_month_Modification_cost',\n",
       "       'Interest_Bearing_UPB', 'DATE', 'Default', 'Max_deliq', 'UNRATE',\n",
       "       'UNRATE_Change_MOM', 'UNRATE_RelChange_MOM', 'CSUSHPISA',\n",
       "       'HPI_Change_MOM', 'HPI_RelChange_MOM'],\n",
       "      dtype='object')"
      ]
     },
     "execution_count": 82,
     "metadata": {},
     "output_type": "execute_result"
    }
   ],
   "source": [
    "#Check the data columns\n",
    "data.columns"
   ]
  },
  {
   "cell_type": "markdown",
   "id": "0d8ad669",
   "metadata": {},
   "source": [
    "### Calculate WOE and IV"
   ]
  },
  {
   "cell_type": "code",
   "execution_count": 83,
   "id": "79993c68",
   "metadata": {},
   "outputs": [],
   "source": [
    "def iv_woe(data, target, bins=10, show_woe=False):\n",
    "\n",
    "#Empty Dataframe\n",
    "    newDF,woeDF = pd.DataFrame(), pd.DataFrame()\n",
    "\n",
    "    #Extract Column Names\n",
    "    cols = data.columns\n",
    "\n",
    "    #Run WOE and IV on all the independent variables\n",
    "    for ivars in cols[~cols.isin([target])]:\n",
    "        if (data[ivars].dtype.kind in 'bifc') and (len(np.unique(data[ivars]))>10):\n",
    "            binned_x = pd.qcut(data[ivars], bins, duplicates='drop')\n",
    "            d0 = pd.DataFrame({'x': binned_x, 'y': data[target]})\n",
    "        else:\n",
    "            d0 = pd.DataFrame({'x': data[ivars], 'y': data[target]})\n",
    "        d = d0.groupby(\"x\", as_index=False).agg({\"y\": [\"count\", \"sum\"]})\n",
    "        d.columns = ['Cutoff', 'N', 'Events']\n",
    "        d['% of Events'] = np.maximum(d['Events'], 0.5) / d['Events'].sum()\n",
    "        d['Non-Events'] = d['N'] - d['Events']\n",
    "        d['% of Non-Events'] = np.maximum(d['Non-Events'], 0.5) / d['Non-Events'].sum()\n",
    "        d['WoE'] = np.log(d['% of Events']/d['% of Non-Events'])\n",
    "        d['IV'] = d['WoE'] * (d['% of Events'] - d['% of Non-Events'])\n",
    "        d.insert(loc=0, column='Variable', value=ivars)\n",
    "        print(\"Information value of \" + ivars + \" is \" + str(round(d['IV'].sum(),6)))\n",
    "        temp =pd.DataFrame({\"Variable\" : [ivars], \"IV\" : [d['IV'].sum()]}, columns = [\"Variable\", \"IV\"])\n",
    "        newDF=pd.concat([newDF,temp], axis=0)\n",
    "        woeDF=pd.concat([woeDF,d], axis=0)\n",
    "\n",
    "    #Show WOE Table\n",
    "    #if show_woe == True:\n",
    "    #print(d)\n",
    "    return newDF, woeDF"
   ]
  },
  {
   "cell_type": "code",
   "execution_count": 84,
   "id": "64934202",
   "metadata": {},
   "outputs": [
    {
     "name": "stdout",
     "output_type": "stream",
     "text": [
      "Information value of Credit_score is 0.472086\n",
      "Information value of First_pay_dt is 0.356814\n",
      "Information value of First_time_HB_Flag is 0.033953\n",
      "Information value of Maturity_dt is 0.525389\n",
      "Information value of MSA is 0.013161\n",
      "Information value of Mortgage_Ins% is 0.083832\n",
      "Information value of No_of_units is 0.011922\n",
      "Information value of Occupancy_status is 0.015247\n",
      "Information value of Orig_CLTV is 0.125916\n",
      "Information value of Orig_DTI_ratio is 0.31284\n",
      "Information value of Orig_UPB is 0.059515\n",
      "Information value of Orig_LTV is 0.117433\n",
      "Information value of Orig_Interest_rate is 0.383571\n",
      "Information value of Channel is 0.014421\n",
      "Information value of PPM_flag is 0.0\n",
      "Information value of Prod_type is 0.0\n",
      "Information value of Property_state is 0.149399\n",
      "Information value of Property_type is 0.001918\n",
      "Information value of Postal_code is 0.045486\n",
      "Information value of Loan_seq_no is 7.736075\n",
      "Information value of loan_purpose is 0.039895\n",
      "Information value of Orig_loan_term is 0.086059\n",
      "Information value of No_of_borrowers is 0.076584\n",
      "Information value of Seller_name is 0.14476\n",
      "Information value of Service_name is 0.183377\n",
      "Information value of Super_conf_flag is 0.0\n",
      "Information value of Pre_harp_loan_seq_no is 3.649919\n",
      "Information value of Prog_indicator is 0.048908\n",
      "Information value of Harp_indicator is 0.0\n",
      "Information value of Prop_val_method is 0.081976\n",
      "Information value of Interest_only_Indicator is 0.0\n",
      "Information value of filename is 0.123827\n",
      "Information value of Monthly_report_period is 2.268804\n",
      "Information value of Curr_act_UPB is 0.094828\n",
      "Information value of Curr_loan_delinq_status is 0.0\n",
      "Information value of Loan_age is 3.167145\n",
      "Information value of Remain_month_legal_maturity is 2.09007\n",
      "Information value of Repurchase_flag is 1.699851\n",
      "Information value of Modify_flag is 0.352304\n",
      "Information value of Zero_bal_code is 0.0\n",
      "Information value of Zero_bal_effective_dt is 0.640212\n",
      "Information value of Curr_interest_rate is 0.37503\n",
      "Information value of Curr_def_UPB is 0.0\n",
      "Information value of Due_dt_of_LPI is 1.086989\n",
      "Information value of MI_recov is 0.159932\n",
      "Information value of Net_sales_proceeds is 0.932361\n",
      "Information value of Non_MI_recov is 0.329679\n",
      "Information value of Expenses is 1.288468\n",
      "Information value of Legal_costs is 0.942176\n",
      "Information value of Maintenance_preserv_costs is 0.825284\n",
      "Information value of Tax_&_Ins is 0.723114\n",
      "Information value of Misc_Exp is 0.449026\n",
      "Information value of Act_loss_cal is 1.188752\n",
      "Information value of Modify_cost is 0.583842\n",
      "Information value of Step_modify_flag is 0.0\n",
      "Information value of Def_payment_plan is 0.335126\n",
      "Information value of Est_LTV is 0.161688\n",
      "Information value of Zero_bal_rem_UPB is 0.701045\n",
      "Information value of Delinq_acc_interest is 0.715023\n",
      "Information value of Delinq_due_disaster is 0.0\n",
      "Information value of Borrower_ass_status_code is 0.081937\n",
      "Information value of Current_month_Modification_cost is 0.353998\n",
      "Information value of Interest_Bearing_UPB is 0.094229\n",
      "Information value of DATE is 2.268804\n",
      "Information value of Max_deliq is 12.747117\n",
      "Information value of UNRATE is 1.961179\n",
      "Information value of UNRATE_Change_MOM is 0.659891\n",
      "Information value of UNRATE_RelChange_MOM is 0.611309\n",
      "Information value of CSUSHPISA is 2.187071\n",
      "Information value of HPI_Change_MOM is 1.84817\n",
      "Information value of HPI_RelChange_MOM is 1.788936\n",
      "                Variable        IV\n",
      "0           Credit_score  0.472086\n",
      "0           First_pay_dt  0.356814\n",
      "0     First_time_HB_Flag  0.033953\n",
      "0            Maturity_dt  0.525389\n",
      "0                    MSA  0.013161\n",
      "..                   ...       ...\n",
      "0      UNRATE_Change_MOM  0.659891\n",
      "0   UNRATE_RelChange_MOM  0.611309\n",
      "0              CSUSHPISA  2.187071\n",
      "0         HPI_Change_MOM  1.848170\n",
      "0      HPI_RelChange_MOM  1.788936\n",
      "\n",
      "[71 rows x 2 columns]\n"
     ]
    }
   ],
   "source": [
    "iv, woe = iv_woe(data = data, target = 'Default', bins=10, show_woe = True) \n",
    "print(iv)"
   ]
  },
  {
   "cell_type": "code",
   "execution_count": 85,
   "id": "aac5992e",
   "metadata": {},
   "outputs": [],
   "source": [
    "#IV values condition\n",
    "conds = [\n",
    "    iv['IV'] < 0.02, \n",
    "    (iv['IV'] >= 0.02) & (iv['IV']<0.1), \n",
    "    (iv['IV'] >= 0.01) & (iv['IV']<0.3),\n",
    "    (iv['IV'] >= 0.03) & (iv['IV']<0.5),     \n",
    "    iv['IV']>0.5,\n",
    "]\n",
    "#List for IV prediction power\n",
    "choices = [\n",
    "    'Not useful for prediction',\n",
    "    'Weak predictive Power',\n",
    "    'Medium predictive Power',\n",
    "    'Strong predictive Power',\n",
    "    'Suspicious Predictive Power',\n",
    "]\n",
    "iv['Predictive_Power'] = np.select(conds, choices)"
   ]
  },
  {
   "cell_type": "code",
   "execution_count": 86,
   "id": "f8b2ffdb",
   "metadata": {},
   "outputs": [
    {
     "data": {
      "text/html": [
       "<div>\n",
       "<style scoped>\n",
       "    .dataframe tbody tr th:only-of-type {\n",
       "        vertical-align: middle;\n",
       "    }\n",
       "\n",
       "    .dataframe tbody tr th {\n",
       "        vertical-align: top;\n",
       "    }\n",
       "\n",
       "    .dataframe thead th {\n",
       "        text-align: right;\n",
       "    }\n",
       "</style>\n",
       "<table border=\"1\" class=\"dataframe\">\n",
       "  <thead>\n",
       "    <tr style=\"text-align: right;\">\n",
       "      <th></th>\n",
       "      <th>Variable</th>\n",
       "      <th>IV</th>\n",
       "      <th>Predictive_Power</th>\n",
       "    </tr>\n",
       "  </thead>\n",
       "  <tbody>\n",
       "    <tr>\n",
       "      <th>0</th>\n",
       "      <td>Credit_score</td>\n",
       "      <td>0.472086</td>\n",
       "      <td>Strong predictive Power</td>\n",
       "    </tr>\n",
       "    <tr>\n",
       "      <th>0</th>\n",
       "      <td>First_pay_dt</td>\n",
       "      <td>0.356814</td>\n",
       "      <td>Strong predictive Power</td>\n",
       "    </tr>\n",
       "    <tr>\n",
       "      <th>0</th>\n",
       "      <td>First_time_HB_Flag</td>\n",
       "      <td>0.033953</td>\n",
       "      <td>Weak predictive Power</td>\n",
       "    </tr>\n",
       "    <tr>\n",
       "      <th>0</th>\n",
       "      <td>Maturity_dt</td>\n",
       "      <td>0.525389</td>\n",
       "      <td>Suspicious Predictive Power</td>\n",
       "    </tr>\n",
       "    <tr>\n",
       "      <th>0</th>\n",
       "      <td>MSA</td>\n",
       "      <td>0.013161</td>\n",
       "      <td>Not useful for prediction</td>\n",
       "    </tr>\n",
       "    <tr>\n",
       "      <th>...</th>\n",
       "      <td>...</td>\n",
       "      <td>...</td>\n",
       "      <td>...</td>\n",
       "    </tr>\n",
       "    <tr>\n",
       "      <th>0</th>\n",
       "      <td>UNRATE_Change_MOM</td>\n",
       "      <td>0.659891</td>\n",
       "      <td>Suspicious Predictive Power</td>\n",
       "    </tr>\n",
       "    <tr>\n",
       "      <th>0</th>\n",
       "      <td>UNRATE_RelChange_MOM</td>\n",
       "      <td>0.611309</td>\n",
       "      <td>Suspicious Predictive Power</td>\n",
       "    </tr>\n",
       "    <tr>\n",
       "      <th>0</th>\n",
       "      <td>CSUSHPISA</td>\n",
       "      <td>2.187071</td>\n",
       "      <td>Suspicious Predictive Power</td>\n",
       "    </tr>\n",
       "    <tr>\n",
       "      <th>0</th>\n",
       "      <td>HPI_Change_MOM</td>\n",
       "      <td>1.848170</td>\n",
       "      <td>Suspicious Predictive Power</td>\n",
       "    </tr>\n",
       "    <tr>\n",
       "      <th>0</th>\n",
       "      <td>HPI_RelChange_MOM</td>\n",
       "      <td>1.788936</td>\n",
       "      <td>Suspicious Predictive Power</td>\n",
       "    </tr>\n",
       "  </tbody>\n",
       "</table>\n",
       "<p>71 rows × 3 columns</p>\n",
       "</div>"
      ],
      "text/plain": [
       "                Variable        IV             Predictive_Power\n",
       "0           Credit_score  0.472086      Strong predictive Power\n",
       "0           First_pay_dt  0.356814      Strong predictive Power\n",
       "0     First_time_HB_Flag  0.033953        Weak predictive Power\n",
       "0            Maturity_dt  0.525389  Suspicious Predictive Power\n",
       "0                    MSA  0.013161    Not useful for prediction\n",
       "..                   ...       ...                          ...\n",
       "0      UNRATE_Change_MOM  0.659891  Suspicious Predictive Power\n",
       "0   UNRATE_RelChange_MOM  0.611309  Suspicious Predictive Power\n",
       "0              CSUSHPISA  2.187071  Suspicious Predictive Power\n",
       "0         HPI_Change_MOM  1.848170  Suspicious Predictive Power\n",
       "0      HPI_RelChange_MOM  1.788936  Suspicious Predictive Power\n",
       "\n",
       "[71 rows x 3 columns]"
      ]
     },
     "execution_count": 86,
     "metadata": {},
     "output_type": "execute_result"
    }
   ],
   "source": [
    "iv"
   ]
  },
  {
   "cell_type": "code",
   "execution_count": 9,
   "id": "182cb485",
   "metadata": {},
   "outputs": [],
   "source": [
    "#Export IV\n",
    "iv.to_csv(\"D:\\TCS Internship\\Project\\Sample Data\\Final_Predictive_Results.csv\")"
   ]
  },
  {
   "cell_type": "code",
   "execution_count": 87,
   "id": "fd9e182d",
   "metadata": {},
   "outputs": [
    {
     "name": "stdout",
     "output_type": "stream",
     "text": [
      "<class 'pandas.core.frame.DataFrame'>\n",
      "Int64Index: 3080011 entries, 0 to 3080010\n",
      "Data columns (total 72 columns):\n",
      " #   Column                           Dtype  \n",
      "---  ------                           -----  \n",
      " 0   Credit_score                     int64  \n",
      " 1   First_pay_dt                     object \n",
      " 2   First_time_HB_Flag               object \n",
      " 3   Maturity_dt                      object \n",
      " 4   MSA                              float64\n",
      " 5   Mortgage_Ins%                    int64  \n",
      " 6   No_of_units                      int64  \n",
      " 7   Occupancy_status                 object \n",
      " 8   Orig_CLTV                        int64  \n",
      " 9   Orig_DTI_ratio                   int64  \n",
      " 10  Orig_UPB                         int64  \n",
      " 11  Orig_LTV                         int64  \n",
      " 12  Orig_Interest_rate               float64\n",
      " 13  Channel                          object \n",
      " 14  PPM_flag                         object \n",
      " 15  Prod_type                        object \n",
      " 16  Property_state                   object \n",
      " 17  Property_type                    object \n",
      " 18  Postal_code                      int64  \n",
      " 19  Loan_seq_no                      object \n",
      " 20  loan_purpose                     object \n",
      " 21  Orig_loan_term                   int64  \n",
      " 22  No_of_borrowers                  int64  \n",
      " 23  Seller_name                      object \n",
      " 24  Service_name                     object \n",
      " 25  Super_conf_flag                  object \n",
      " 26  Pre_harp_loan_seq_no             object \n",
      " 27  Prog_indicator                   object \n",
      " 28  Harp_indicator                   object \n",
      " 29  Prop_val_method                  int64  \n",
      " 30  Interest_only_Indicator          object \n",
      " 31  filename                         object \n",
      " 32  Monthly_report_period            object \n",
      " 33  Curr_act_UPB                     float64\n",
      " 34  Curr_loan_delinq_status          int64  \n",
      " 35  Loan_age                         float64\n",
      " 36  Remain_month_legal_maturity      int64  \n",
      " 37  Repurchase_flag                  float64\n",
      " 38  Modify_flag                      object \n",
      " 39  Zero_bal_code                    float64\n",
      " 40  Zero_bal_effective_dt            float64\n",
      " 41  Curr_interest_rate               float64\n",
      " 42  Curr_def_UPB                     float64\n",
      " 43  Due_dt_of_LPI                    float64\n",
      " 44  MI_recov                         float64\n",
      " 45  Net_sales_proceeds               float64\n",
      " 46  Non_MI_recov                     float64\n",
      " 47  Expenses                         float64\n",
      " 48  Legal_costs                      float64\n",
      " 49  Maintenance_preserv_costs        float64\n",
      " 50  Tax_&_Ins                        float64\n",
      " 51  Misc_Exp                         float64\n",
      " 52  Act_loss_cal                     float64\n",
      " 53  Modify_cost                      float64\n",
      " 54  Step_modify_flag                 object \n",
      " 55  Def_payment_plan                 object \n",
      " 56  Est_LTV                          int64  \n",
      " 57  Zero_bal_rem_UPB                 float64\n",
      " 58  Delinq_acc_interest              float64\n",
      " 59  Delinq_due_disaster              object \n",
      " 60  Borrower_ass_status_code         object \n",
      " 61  Current_month_Modification_cost  float64\n",
      " 62  Interest_Bearing_UPB             float64\n",
      " 63  DATE                             object \n",
      " 64  Default                          int64  \n",
      " 65  Max_deliq                        int64  \n",
      " 66  UNRATE                           float64\n",
      " 67  UNRATE_Change_MOM                float64\n",
      " 68  UNRATE_RelChange_MOM             float64\n",
      " 69  CSUSHPISA                        float64\n",
      " 70  HPI_Change_MOM                   float64\n",
      " 71  HPI_RelChange_MOM                float64\n",
      "dtypes: float64(30), int64(16), object(26)\n",
      "memory usage: 1.7+ GB\n"
     ]
    }
   ],
   "source": [
    "data.info()"
   ]
  },
  {
   "cell_type": "markdown",
   "id": "b6864b13",
   "metadata": {},
   "source": [
    "### Handling Missing Values "
   ]
  },
  {
   "cell_type": "code",
   "execution_count": 88,
   "id": "e83dc819",
   "metadata": {},
   "outputs": [
    {
     "name": "stdout",
     "output_type": "stream",
     "text": [
      "Credit_score ----> Missing Rows : 0 | Percentage : 0.0\n",
      "Orig_DTI_ratio ----> Missing Rows : 0 | Percentage : 0.0\n",
      "Orig_LTV ----> Missing Rows : 0 | Percentage : 0.0\n",
      "Orig_Interest_rate ----> Missing Rows : 0 | Percentage : 0.0\n",
      "Property_state ----> Missing Rows : 0 | Percentage : 0.0\n",
      "Orig_loan_term ----> Missing Rows : 0 | Percentage : 0.0\n",
      "Loan_age ----> Missing Rows : 0 | Percentage : 0.0\n",
      "Curr_interest_rate ----> Missing Rows : 0 | Percentage : 0.0\n",
      "UNRATE ----> Missing Rows : 0 | Percentage : 0.0\n",
      "UNRATE_RelChange_MOM ----> Missing Rows : 0 | Percentage : 0.0\n",
      "CSUSHPISA ----> Missing Rows : 0 | Percentage : 0.0\n",
      "HPI_RelChange_MOM ----> Missing Rows : 0 | Percentage : 0.0\n"
     ]
    }
   ],
   "source": [
    "#Final Variables\n",
    "l=['Credit_score','Orig_DTI_ratio','Orig_LTV','Orig_Interest_rate','Property_state','Orig_loan_term','Loan_age','Curr_interest_rate','UNRATE','UNRATE_RelChange_MOM','CSUSHPISA','HPI_RelChange_MOM']\n",
    "for i in l:\n",
    "    print(i,\"---->\",\"Missing Rows :\",len(data[i])-data[i].count(),\"| Percentage :\",(len(data[i])-data[i].count())/len(data)*100)\n",
    "    "
   ]
  },
  {
   "cell_type": "code",
   "execution_count": 89,
   "id": "a8f977ea",
   "metadata": {},
   "outputs": [],
   "source": [
    "#Apply LabelEncoder for Obj datatype\n",
    "labelencoder=LabelEncoder()\n",
    "data['Property_state_N'] = labelencoder.fit_transform(data['Property_state'])"
   ]
  },
  {
   "cell_type": "code",
   "execution_count": 90,
   "id": "3f3c11e6",
   "metadata": {},
   "outputs": [],
   "source": [
    "#Create new dataframe with Final Variables\n",
    "df=data[['Credit_score','Orig_DTI_ratio','Orig_LTV','Property_state_N','Curr_interest_rate','UNRATE','HPI_RelChange_MOM','CSUSHPISA','UNRATE_RelChange_MOM','Default','Loan_seq_no','Loan_age','Orig_loan_term']]"
   ]
  },
  {
   "cell_type": "code",
   "execution_count": 6,
   "id": "8067ec2d",
   "metadata": {},
   "outputs": [],
   "source": [
    "df.to_csv(\"D:\\TCS Internship\\Project\\Sample Data\\Final_Variable.csv\")"
   ]
  },
  {
   "cell_type": "code",
   "execution_count": 91,
   "id": "f489a119",
   "metadata": {},
   "outputs": [
    {
     "data": {
      "text/plain": [
       "Index(['Credit_score', 'Orig_DTI_ratio', 'Orig_LTV', 'Property_state_N',\n",
       "       'Curr_interest_rate', 'UNRATE', 'HPI_RelChange_MOM', 'CSUSHPISA',\n",
       "       'UNRATE_RelChange_MOM', 'Default', 'Loan_seq_no', 'Loan_age',\n",
       "       'Orig_loan_term'],\n",
       "      dtype='object')"
      ]
     },
     "execution_count": 91,
     "metadata": {},
     "output_type": "execute_result"
    }
   ],
   "source": [
    "df.columns"
   ]
  },
  {
   "cell_type": "code",
   "execution_count": 92,
   "id": "0672d99d",
   "metadata": {},
   "outputs": [],
   "source": [
    "#Split the data for training and testing\n",
    "splitter = GroupShuffleSplit(test_size=.20, n_splits=2, random_state = 7)\n",
    "split = splitter.split(df, groups=df['Loan_seq_no'])\n",
    "train_inds, test_inds = next(split)\n",
    "\n",
    "train = df.iloc[train_inds]\n",
    "test = df.iloc[test_inds]"
   ]
  },
  {
   "cell_type": "code",
   "execution_count": 93,
   "id": "70670bf2",
   "metadata": {},
   "outputs": [
    {
     "name": "stdout",
     "output_type": "stream",
     "text": [
      "(2462644, 13)\n",
      "(617367, 13)\n"
     ]
    }
   ],
   "source": [
    "print(train.shape)\n",
    "print(test.shape)"
   ]
  },
  {
   "cell_type": "markdown",
   "id": "1b707a18",
   "metadata": {},
   "source": [
    "### Calculate Missing value percentage for Train and Test Dataset"
   ]
  },
  {
   "cell_type": "code",
   "execution_count": 94,
   "id": "68df2c6a",
   "metadata": {},
   "outputs": [
    {
     "name": "stdout",
     "output_type": "stream",
     "text": [
      "Credit_score ----> Missing Rows : 0 | Percentage : 0.0\n",
      "Orig_DTI_ratio ----> Missing Rows : 0 | Percentage : 0.0\n",
      "Orig_LTV ----> Missing Rows : 0 | Percentage : 0.0\n",
      "Property_state_N ----> Missing Rows : 0 | Percentage : 0.0\n",
      "Curr_interest_rate ----> Missing Rows : 0 | Percentage : 0.0\n",
      "UNRATE ----> Missing Rows : 0 | Percentage : 0.0\n",
      "HPI_RelChange_MOM ----> Missing Rows : 0 | Percentage : 0.0\n",
      "CSUSHPISA ----> Missing Rows : 0 | Percentage : 0.0\n",
      "UNRATE_RelChange_MOM ----> Missing Rows : 0 | Percentage : 0.0\n",
      "Default ----> Missing Rows : 0 | Percentage : 0.0\n",
      "Loan_seq_no ----> Missing Rows : 0 | Percentage : 0.0\n",
      "Loan_age ----> Missing Rows : 0 | Percentage : 0.0\n",
      "Orig_loan_term ----> Missing Rows : 0 | Percentage : 0.0\n"
     ]
    }
   ],
   "source": [
    "for i in train.columns:\n",
    "    print(i,\"---->\",\"Missing Rows :\",len(data[i])-data[i].count(),\"| Percentage :\",(len(data[i])-data[i].count())/len(data)*100)\n",
    "    "
   ]
  },
  {
   "cell_type": "code",
   "execution_count": 95,
   "id": "ac187f06",
   "metadata": {},
   "outputs": [
    {
     "name": "stdout",
     "output_type": "stream",
     "text": [
      "Credit_score ----> Missing Rows : 0 | Percentage : 0.0\n",
      "Orig_DTI_ratio ----> Missing Rows : 0 | Percentage : 0.0\n",
      "Orig_LTV ----> Missing Rows : 0 | Percentage : 0.0\n",
      "Property_state_N ----> Missing Rows : 0 | Percentage : 0.0\n",
      "Curr_interest_rate ----> Missing Rows : 0 | Percentage : 0.0\n",
      "UNRATE ----> Missing Rows : 0 | Percentage : 0.0\n",
      "HPI_RelChange_MOM ----> Missing Rows : 0 | Percentage : 0.0\n",
      "CSUSHPISA ----> Missing Rows : 0 | Percentage : 0.0\n",
      "UNRATE_RelChange_MOM ----> Missing Rows : 0 | Percentage : 0.0\n",
      "Default ----> Missing Rows : 0 | Percentage : 0.0\n",
      "Loan_seq_no ----> Missing Rows : 0 | Percentage : 0.0\n",
      "Loan_age ----> Missing Rows : 0 | Percentage : 0.0\n",
      "Orig_loan_term ----> Missing Rows : 0 | Percentage : 0.0\n"
     ]
    }
   ],
   "source": [
    "for i in test.columns:\n",
    "    print(i,\"---->\",\"Missing Rows :\",len(data[i])-data[i].count(),\"| Percentage :\",(len(data[i])-data[i].count())/len(data)*100)"
   ]
  },
  {
   "cell_type": "code",
   "execution_count": 96,
   "id": "8400d834",
   "metadata": {},
   "outputs": [
    {
     "name": "stdout",
     "output_type": "stream",
     "text": [
      "<class 'pandas.core.frame.DataFrame'>\n",
      "Int64Index: 2462644 entries, 0 to 3080010\n",
      "Data columns (total 13 columns):\n",
      " #   Column                Dtype  \n",
      "---  ------                -----  \n",
      " 0   Credit_score          int64  \n",
      " 1   Orig_DTI_ratio        int64  \n",
      " 2   Orig_LTV              int64  \n",
      " 3   Property_state_N      int32  \n",
      " 4   Curr_interest_rate    float64\n",
      " 5   UNRATE                float64\n",
      " 6   HPI_RelChange_MOM     float64\n",
      " 7   CSUSHPISA             float64\n",
      " 8   UNRATE_RelChange_MOM  float64\n",
      " 9   Default               int64  \n",
      " 10  Loan_seq_no           object \n",
      " 11  Loan_age              float64\n",
      " 12  Orig_loan_term        int64  \n",
      "dtypes: float64(6), int32(1), int64(5), object(1)\n",
      "memory usage: 253.6+ MB\n"
     ]
    }
   ],
   "source": [
    "train.info()"
   ]
  },
  {
   "cell_type": "code",
   "execution_count": 97,
   "id": "85a43d36",
   "metadata": {},
   "outputs": [
    {
     "name": "stdout",
     "output_type": "stream",
     "text": [
      "<class 'pandas.core.frame.DataFrame'>\n",
      "Int64Index: 617367 entries, 167 to 3080008\n",
      "Data columns (total 13 columns):\n",
      " #   Column                Non-Null Count   Dtype  \n",
      "---  ------                --------------   -----  \n",
      " 0   Credit_score          617367 non-null  int64  \n",
      " 1   Orig_DTI_ratio        617367 non-null  int64  \n",
      " 2   Orig_LTV              617367 non-null  int64  \n",
      " 3   Property_state_N      617367 non-null  int32  \n",
      " 4   Curr_interest_rate    617367 non-null  float64\n",
      " 5   UNRATE                617367 non-null  float64\n",
      " 6   HPI_RelChange_MOM     617367 non-null  float64\n",
      " 7   CSUSHPISA             617367 non-null  float64\n",
      " 8   UNRATE_RelChange_MOM  617367 non-null  float64\n",
      " 9   Default               617367 non-null  int64  \n",
      " 10  Loan_seq_no           617367 non-null  object \n",
      " 11  Loan_age              617367 non-null  float64\n",
      " 12  Orig_loan_term        617367 non-null  int64  \n",
      "dtypes: float64(6), int32(1), int64(5), object(1)\n",
      "memory usage: 63.6+ MB\n"
     ]
    }
   ],
   "source": [
    "test.info()"
   ]
  },
  {
   "cell_type": "code",
   "execution_count": 98,
   "id": "67c0544d",
   "metadata": {},
   "outputs": [],
   "source": [
    "#Filter the Final variables for better results \n",
    "\n",
    "ytrain=train['Default']\n",
    "t=data['Loan_age']\n",
    "Xtrain=train[['Credit_score'\n",
    "              #,'Orig_DTI_ratio'\n",
    "              ,'Orig_LTV'\n",
    "              #,'Property_state_N'\n",
    "              ,'Curr_interest_rate'\n",
    "              ,'UNRATE'\n",
    "              #,'UNRATE_RelChange_MOM'\n",
    "              ,'CSUSHPISA'\n",
    "              #,'HPI_RelChange_MOM'\n",
    "              ,'Orig_loan_term']]"
   ]
  },
  {
   "cell_type": "code",
   "execution_count": 99,
   "id": "5d9472be",
   "metadata": {},
   "outputs": [],
   "source": [
    "#Filter the Final variables for better results\n",
    "\n",
    "ytest=test['Default']\n",
    "Xtest=test[['Credit_score'\n",
    "              #,'Orig_DTI_ratio'\n",
    "              ,'Orig_LTV'\n",
    "              #,'Property_state_N'\n",
    "              ,'Curr_interest_rate'\n",
    "              ,'UNRATE'\n",
    "              #,'UNRATE_RelChange_MOM'\n",
    "              ,'CSUSHPISA'\n",
    "              #,'HPI_RelChange_MOM'\n",
    "              ,'Orig_loan_term']]\n"
   ]
  },
  {
   "cell_type": "markdown",
   "id": "c0d278c1",
   "metadata": {},
   "source": [
    "### Model Fitting"
   ]
  },
  {
   "cell_type": "code",
   "execution_count": 101,
   "id": "f90b8692",
   "metadata": {},
   "outputs": [
    {
     "name": "stderr",
     "output_type": "stream",
     "text": [
      "C:\\Users\\ASUS\\anaconda3\\lib\\site-packages\\statsmodels\\tsa\\tsatools.py:142: FutureWarning: In a future version of pandas all arguments of concat except for the argument 'objs' will be keyword-only\n",
      "  x = pd.concat(x[::order], 1)\n"
     ]
    },
    {
     "name": "stdout",
     "output_type": "stream",
     "text": [
      "Optimization terminated successfully.\n",
      "         Current function value: 0.036257\n",
      "         Iterations 10\n"
     ]
    },
    {
     "data": {
      "text/html": [
       "<table class=\"simpletable\">\n",
       "<caption>Logit Regression Results</caption>\n",
       "<tr>\n",
       "  <th>Dep. Variable:</th>        <td>Default</td>     <th>  No. Observations:  </th>   <td>2462644</td>  \n",
       "</tr>\n",
       "<tr>\n",
       "  <th>Model:</th>                 <td>Logit</td>      <th>  Df Residuals:      </th>   <td>2462638</td>  \n",
       "</tr>\n",
       "<tr>\n",
       "  <th>Method:</th>                 <td>MLE</td>       <th>  Df Model:          </th>   <td>     5</td>   \n",
       "</tr>\n",
       "<tr>\n",
       "  <th>Date:</th>            <td>Sat, 26 Mar 2022</td> <th>  Pseudo R-squ.:     </th>   <td>0.1152</td>   \n",
       "</tr>\n",
       "<tr>\n",
       "  <th>Time:</th>                <td>11:34:35</td>     <th>  Log-Likelihood:    </th>  <td> -89287.</td>  \n",
       "</tr>\n",
       "<tr>\n",
       "  <th>converged:</th>             <td>True</td>       <th>  LL-Null:           </th> <td>-1.0091e+05</td>\n",
       "</tr>\n",
       "<tr>\n",
       "  <th>Covariance Type:</th>     <td>nonrobust</td>    <th>  LLR p-value:       </th>   <td> 0.000</td>   \n",
       "</tr>\n",
       "</table>\n",
       "<table class=\"simpletable\">\n",
       "<tr>\n",
       "           <td></td>             <th>coef</th>     <th>std err</th>      <th>z</th>      <th>P>|z|</th>  <th>[0.025</th>    <th>0.975]</th>  \n",
       "</tr>\n",
       "<tr>\n",
       "  <th>Credit_score</th>       <td>   -0.0210</td> <td>    0.000</td> <td> -181.694</td> <td> 0.000</td> <td>   -0.021</td> <td>   -0.021</td>\n",
       "</tr>\n",
       "<tr>\n",
       "  <th>Orig_LTV</th>           <td>    0.0111</td> <td>    0.001</td> <td>   22.176</td> <td> 0.000</td> <td>    0.010</td> <td>    0.012</td>\n",
       "</tr>\n",
       "<tr>\n",
       "  <th>Curr_interest_rate</th> <td>    0.2287</td> <td>    0.009</td> <td>   25.411</td> <td> 0.000</td> <td>    0.211</td> <td>    0.246</td>\n",
       "</tr>\n",
       "<tr>\n",
       "  <th>UNRATE</th>             <td>    0.0206</td> <td>    0.003</td> <td>    6.535</td> <td> 0.000</td> <td>    0.014</td> <td>    0.027</td>\n",
       "</tr>\n",
       "<tr>\n",
       "  <th>CSUSHPISA</th>          <td>    0.0339</td> <td>    0.000</td> <td>  115.372</td> <td> 0.000</td> <td>    0.033</td> <td>    0.034</td>\n",
       "</tr>\n",
       "<tr>\n",
       "  <th>Orig_loan_term</th>     <td>    0.0014</td> <td>    0.000</td> <td>    9.885</td> <td> 0.000</td> <td>    0.001</td> <td>    0.002</td>\n",
       "</tr>\n",
       "</table>"
      ],
      "text/plain": [
       "<class 'statsmodels.iolib.summary.Summary'>\n",
       "\"\"\"\n",
       "                           Logit Regression Results                           \n",
       "==============================================================================\n",
       "Dep. Variable:                Default   No. Observations:              2462644\n",
       "Model:                          Logit   Df Residuals:                  2462638\n",
       "Method:                           MLE   Df Model:                            5\n",
       "Date:                Sat, 26 Mar 2022   Pseudo R-squ.:                  0.1152\n",
       "Time:                        11:34:35   Log-Likelihood:                -89287.\n",
       "converged:                       True   LL-Null:                   -1.0091e+05\n",
       "Covariance Type:            nonrobust   LLR p-value:                     0.000\n",
       "======================================================================================\n",
       "                         coef    std err          z      P>|z|      [0.025      0.975]\n",
       "--------------------------------------------------------------------------------------\n",
       "Credit_score          -0.0210      0.000   -181.694      0.000      -0.021      -0.021\n",
       "Orig_LTV               0.0111      0.001     22.176      0.000       0.010       0.012\n",
       "Curr_interest_rate     0.2287      0.009     25.411      0.000       0.211       0.246\n",
       "UNRATE                 0.0206      0.003      6.535      0.000       0.014       0.027\n",
       "CSUSHPISA              0.0339      0.000    115.372      0.000       0.033       0.034\n",
       "Orig_loan_term         0.0014      0.000      9.885      0.000       0.001       0.002\n",
       "======================================================================================\n",
       "\"\"\""
      ]
     },
     "execution_count": 101,
     "metadata": {},
     "output_type": "execute_result"
    }
   ],
   "source": [
    "X=sm.add_constant(Xtrain)\n",
    "model=sm.Logit(ytrain,Xtrain)\n",
    "result=model.fit()\n",
    "result.summary()"
   ]
  },
  {
   "cell_type": "code",
   "execution_count": 102,
   "id": "b2a74af0",
   "metadata": {},
   "outputs": [
    {
     "name": "stdout",
     "output_type": "stream",
     "text": [
      "0.8148758298451345\n"
     ]
    }
   ],
   "source": [
    "#Accuracy for Train dataset\n",
    "predict_values = result.predict(Xtrain)\n",
    "print(roc_auc_score(ytrain,predict_values))"
   ]
  },
  {
   "cell_type": "code",
   "execution_count": 103,
   "id": "92a715dd",
   "metadata": {},
   "outputs": [
    {
     "name": "stdout",
     "output_type": "stream",
     "text": [
      "0.8161505917506171\n"
     ]
    }
   ],
   "source": [
    "#Accuracy for Test dataset\n",
    "predict_values = result.predict(Xtest)\n",
    "#print(predict_values,ytest)\n",
    "print(roc_auc_score(ytest,predict_values))"
   ]
  },
  {
   "cell_type": "code",
   "execution_count": 109,
   "id": "eff0208a",
   "metadata": {},
   "outputs": [
    {
     "data": {
      "image/png": "[encoded data removed]",
      "text/plain": [
       "<Figure size 432x288 with 1 Axes>"
      ]
     },
     "metadata": {
      "needs_background": "light"
     },
     "output_type": "display_data"
    }
   ],
   "source": [
    "#AUC Curve\n",
    "\n",
    "fpr, tpr, threshold = metrics.roc_curve(ytest, predict_values)\n",
    "roc_auc = metrics.auc(fpr, tpr)\n",
    "\n",
    "plt.title('Default')\n",
    "plt.plot(fpr, tpr, 'b', label = 'AUC = %0.2f' % roc_auc)\n",
    "plt.legend(loc = 'lower right')\n",
    "plt.plot([0, 1], [0, 1],'r--')\n",
    "plt.xlim([0, 1])\n",
    "plt.ylim([0, 1])\n",
    "plt.ylabel('True Positive Rate')\n",
    "plt.xlabel('False Positive Rate')\n",
    "plt.show()"
   ]
  },
  {
   "cell_type": "markdown",
   "id": "569f2f74",
   "metadata": {},
   "source": [
    "### Model Validation"
   ]
  },
  {
   "cell_type": "code",
   "execution_count": 61,
   "id": "71f7c016",
   "metadata": {},
   "outputs": [
    {
     "data": {
      "text/html": [
       "<div>\n",
       "<style scoped>\n",
       "    .dataframe tbody tr th:only-of-type {\n",
       "        vertical-align: middle;\n",
       "    }\n",
       "\n",
       "    .dataframe tbody tr th {\n",
       "        vertical-align: top;\n",
       "    }\n",
       "\n",
       "    .dataframe thead th {\n",
       "        text-align: right;\n",
       "    }\n",
       "</style>\n",
       "<table border=\"1\" class=\"dataframe\">\n",
       "  <thead>\n",
       "    <tr style=\"text-align: right;\">\n",
       "      <th></th>\n",
       "      <th>time</th>\n",
       "      <th>actuals</th>\n",
       "      <th>predicted</th>\n",
       "    </tr>\n",
       "  </thead>\n",
       "  <tbody>\n",
       "    <tr>\n",
       "      <th>3080001</th>\n",
       "      <td>9.0</td>\n",
       "      <td>0.0</td>\n",
       "      <td>0.003280</td>\n",
       "    </tr>\n",
       "    <tr>\n",
       "      <th>3080002</th>\n",
       "      <td>10.0</td>\n",
       "      <td>0.0</td>\n",
       "      <td>0.003597</td>\n",
       "    </tr>\n",
       "    <tr>\n",
       "      <th>3080003</th>\n",
       "      <td>7.0</td>\n",
       "      <td>NaN</td>\n",
       "      <td>NaN</td>\n",
       "    </tr>\n",
       "    <tr>\n",
       "      <th>3080004</th>\n",
       "      <td>8.0</td>\n",
       "      <td>NaN</td>\n",
       "      <td>NaN</td>\n",
       "    </tr>\n",
       "    <tr>\n",
       "      <th>3080005</th>\n",
       "      <td>9.0</td>\n",
       "      <td>NaN</td>\n",
       "      <td>NaN</td>\n",
       "    </tr>\n",
       "    <tr>\n",
       "      <th>3080006</th>\n",
       "      <td>10.0</td>\n",
       "      <td>NaN</td>\n",
       "      <td>NaN</td>\n",
       "    </tr>\n",
       "    <tr>\n",
       "      <th>3080007</th>\n",
       "      <td>9.0</td>\n",
       "      <td>0.0</td>\n",
       "      <td>0.002276</td>\n",
       "    </tr>\n",
       "    <tr>\n",
       "      <th>3080008</th>\n",
       "      <td>10.0</td>\n",
       "      <td>0.0</td>\n",
       "      <td>0.002496</td>\n",
       "    </tr>\n",
       "    <tr>\n",
       "      <th>3080009</th>\n",
       "      <td>7.0</td>\n",
       "      <td>NaN</td>\n",
       "      <td>NaN</td>\n",
       "    </tr>\n",
       "    <tr>\n",
       "      <th>3080010</th>\n",
       "      <td>8.0</td>\n",
       "      <td>NaN</td>\n",
       "      <td>NaN</td>\n",
       "    </tr>\n",
       "  </tbody>\n",
       "</table>\n",
       "</div>"
      ],
      "text/plain": [
       "         time  actuals  predicted\n",
       "3080001   9.0      0.0   0.003280\n",
       "3080002  10.0      0.0   0.003597\n",
       "3080003   7.0      NaN        NaN\n",
       "3080004   8.0      NaN        NaN\n",
       "3080005   9.0      NaN        NaN\n",
       "3080006  10.0      NaN        NaN\n",
       "3080007   9.0      0.0   0.002276\n",
       "3080008  10.0      0.0   0.002496\n",
       "3080009   7.0      NaN        NaN\n",
       "3080010   8.0      NaN        NaN"
      ]
     },
     "execution_count": 61,
     "metadata": {},
     "output_type": "execute_result"
    }
   ],
   "source": [
    "predict_values = result.predict(Xtest)\n",
    "#print(predict_values,ytest)\n",
    "#print(roc_auc_score(ytest,predict_values))\n",
    "train_dict= {'time':t,'actuals':ytest,'predicted':predict_values}\n",
    "train_calc = pd.DataFrame(train_dict)\n",
    "train_calc.tail(10)"
   ]
  },
  {
   "cell_type": "code",
   "execution_count": 62,
   "id": "3809d110",
   "metadata": {},
   "outputs": [],
   "source": [
    "train_dict = {'actuals':ytest,'predicted':predict_values}\n",
    "train_calc = pd.DataFrame(train_dict)\n",
    "train_calc['1-predicted'] = 1-train_calc['predicted']\n",
    "train_calc['bucket'] = pd.qcut(train_calc['1-predicted'],10,labels=['b1','b2','b3','b4','b5','b6','b7','b8','b9','b10'])"
   ]
  },
  {
   "cell_type": "code",
   "execution_count": 66,
   "id": "01a3a873",
   "metadata": {},
   "outputs": [
    {
     "name": "stdout",
     "output_type": "stream",
     "text": [
      "0.5\n"
     ]
    }
   ],
   "source": [
    "kstable = train_calc.groupby('bucket',as_index = False)[['1-predicted','predicted']].sum()\n",
    "kstable['event_rate'] = (kstable['predicted'] / kstable['predicted'].sum()).cumsum()\n",
    "kstable['non_event_rate'] = (kstable['1-predicted'] / kstable['1-predicted'].sum()).cumsum()\n",
    "kstable['KS'] = (kstable['event_rate'] - kstable['non_event_rate']).abs()\n",
    "\n",
    "#Prints KS value\n",
    "print(np.round(kstable['KS'].max(),1))\n"
   ]
  },
  {
   "cell_type": "code",
   "execution_count": 64,
   "id": "d0b8bb0a",
   "metadata": {},
   "outputs": [
    {
     "data": {
      "text/html": [
       "<div>\n",
       "<style scoped>\n",
       "    .dataframe tbody tr th:only-of-type {\n",
       "        vertical-align: middle;\n",
       "    }\n",
       "\n",
       "    .dataframe tbody tr th {\n",
       "        vertical-align: top;\n",
       "    }\n",
       "\n",
       "    .dataframe thead th {\n",
       "        text-align: right;\n",
       "    }\n",
       "</style>\n",
       "<table border=\"1\" class=\"dataframe\">\n",
       "  <thead>\n",
       "    <tr style=\"text-align: right;\">\n",
       "      <th></th>\n",
       "      <th>bucket</th>\n",
       "      <th>1-predicted</th>\n",
       "      <th>predicted</th>\n",
       "      <th>event_rate</th>\n",
       "      <th>non_event_rate</th>\n",
       "      <th>KS</th>\n",
       "    </tr>\n",
       "  </thead>\n",
       "  <tbody>\n",
       "    <tr>\n",
       "      <th>0</th>\n",
       "      <td>b1</td>\n",
       "      <td>59482.812579</td>\n",
       "      <td>2254.187421</td>\n",
       "      <td>0.505187</td>\n",
       "      <td>0.097051</td>\n",
       "      <td>0.408136</td>\n",
       "    </tr>\n",
       "    <tr>\n",
       "      <th>1</th>\n",
       "      <td>b2</td>\n",
       "      <td>60973.615333</td>\n",
       "      <td>763.384667</td>\n",
       "      <td>0.676269</td>\n",
       "      <td>0.196534</td>\n",
       "      <td>0.479736</td>\n",
       "    </tr>\n",
       "    <tr>\n",
       "      <th>2</th>\n",
       "      <td>b3</td>\n",
       "      <td>61275.431145</td>\n",
       "      <td>460.568855</td>\n",
       "      <td>0.779488</td>\n",
       "      <td>0.296509</td>\n",
       "      <td>0.482979</td>\n",
       "    </tr>\n",
       "    <tr>\n",
       "      <th>3</th>\n",
       "      <td>b4</td>\n",
       "      <td>61424.993498</td>\n",
       "      <td>312.006502</td>\n",
       "      <td>0.849412</td>\n",
       "      <td>0.396729</td>\n",
       "      <td>0.452683</td>\n",
       "    </tr>\n",
       "    <tr>\n",
       "      <th>4</th>\n",
       "      <td>b5</td>\n",
       "      <td>61516.832039</td>\n",
       "      <td>220.167961</td>\n",
       "      <td>0.898754</td>\n",
       "      <td>0.497098</td>\n",
       "      <td>0.401656</td>\n",
       "    </tr>\n",
       "    <tr>\n",
       "      <th>5</th>\n",
       "      <td>b6</td>\n",
       "      <td>61577.397210</td>\n",
       "      <td>158.602790</td>\n",
       "      <td>0.934298</td>\n",
       "      <td>0.597566</td>\n",
       "      <td>0.336732</td>\n",
       "    </tr>\n",
       "    <tr>\n",
       "      <th>6</th>\n",
       "      <td>b7</td>\n",
       "      <td>61621.339584</td>\n",
       "      <td>115.660416</td>\n",
       "      <td>0.960219</td>\n",
       "      <td>0.698106</td>\n",
       "      <td>0.262113</td>\n",
       "    </tr>\n",
       "    <tr>\n",
       "      <th>7</th>\n",
       "      <td>b8</td>\n",
       "      <td>61652.292563</td>\n",
       "      <td>83.707437</td>\n",
       "      <td>0.978979</td>\n",
       "      <td>0.798696</td>\n",
       "      <td>0.180283</td>\n",
       "    </tr>\n",
       "    <tr>\n",
       "      <th>8</th>\n",
       "      <td>b9</td>\n",
       "      <td>61678.159215</td>\n",
       "      <td>58.840785</td>\n",
       "      <td>0.992165</td>\n",
       "      <td>0.899329</td>\n",
       "      <td>0.092837</td>\n",
       "    </tr>\n",
       "    <tr>\n",
       "      <th>9</th>\n",
       "      <td>b10</td>\n",
       "      <td>61702.041240</td>\n",
       "      <td>34.958760</td>\n",
       "      <td>1.000000</td>\n",
       "      <td>1.000000</td>\n",
       "      <td>0.000000</td>\n",
       "    </tr>\n",
       "  </tbody>\n",
       "</table>\n",
       "</div>"
      ],
      "text/plain": [
       "  bucket   1-predicted    predicted  event_rate  non_event_rate        KS\n",
       "0     b1  59482.812579  2254.187421    0.505187        0.097051  0.408136\n",
       "1     b2  60973.615333   763.384667    0.676269        0.196534  0.479736\n",
       "2     b3  61275.431145   460.568855    0.779488        0.296509  0.482979\n",
       "3     b4  61424.993498   312.006502    0.849412        0.396729  0.452683\n",
       "4     b5  61516.832039   220.167961    0.898754        0.497098  0.401656\n",
       "5     b6  61577.397210   158.602790    0.934298        0.597566  0.336732\n",
       "6     b7  61621.339584   115.660416    0.960219        0.698106  0.262113\n",
       "7     b8  61652.292563    83.707437    0.978979        0.798696  0.180283\n",
       "8     b9  61678.159215    58.840785    0.992165        0.899329  0.092837\n",
       "9    b10  61702.041240    34.958760    1.000000        1.000000  0.000000"
      ]
     },
     "execution_count": 64,
     "metadata": {},
     "output_type": "execute_result"
    }
   ],
   "source": [
    "#Print KS Table\n",
    "kstable"
   ]
  },
  {
   "cell_type": "code",
   "execution_count": 75,
   "id": "38ab7b85",
   "metadata": {},
   "outputs": [
    {
     "data": {
      "text/html": [
       "<div>\n",
       "<style scoped>\n",
       "    .dataframe tbody tr th:only-of-type {\n",
       "        vertical-align: middle;\n",
       "    }\n",
       "\n",
       "    .dataframe tbody tr th {\n",
       "        vertical-align: top;\n",
       "    }\n",
       "\n",
       "    .dataframe thead th {\n",
       "        text-align: right;\n",
       "    }\n",
       "</style>\n",
       "<table border=\"1\" class=\"dataframe\">\n",
       "  <thead>\n",
       "    <tr style=\"text-align: right;\">\n",
       "      <th></th>\n",
       "      <th>x_values</th>\n",
       "      <th>event</th>\n",
       "      <th>non_event</th>\n",
       "    </tr>\n",
       "  </thead>\n",
       "  <tbody>\n",
       "    <tr>\n",
       "      <th>10</th>\n",
       "      <td>b0</td>\n",
       "      <td>0.000000</td>\n",
       "      <td>0.000000</td>\n",
       "    </tr>\n",
       "    <tr>\n",
       "      <th>0</th>\n",
       "      <td>b1</td>\n",
       "      <td>0.505187</td>\n",
       "      <td>0.097051</td>\n",
       "    </tr>\n",
       "    <tr>\n",
       "      <th>1</th>\n",
       "      <td>b2</td>\n",
       "      <td>0.676269</td>\n",
       "      <td>0.196534</td>\n",
       "    </tr>\n",
       "    <tr>\n",
       "      <th>2</th>\n",
       "      <td>b3</td>\n",
       "      <td>0.779488</td>\n",
       "      <td>0.296509</td>\n",
       "    </tr>\n",
       "    <tr>\n",
       "      <th>3</th>\n",
       "      <td>b4</td>\n",
       "      <td>0.849412</td>\n",
       "      <td>0.396729</td>\n",
       "    </tr>\n",
       "    <tr>\n",
       "      <th>4</th>\n",
       "      <td>b5</td>\n",
       "      <td>0.898754</td>\n",
       "      <td>0.497098</td>\n",
       "    </tr>\n",
       "    <tr>\n",
       "      <th>5</th>\n",
       "      <td>b6</td>\n",
       "      <td>0.934298</td>\n",
       "      <td>0.597566</td>\n",
       "    </tr>\n",
       "    <tr>\n",
       "      <th>6</th>\n",
       "      <td>b7</td>\n",
       "      <td>0.960219</td>\n",
       "      <td>0.698106</td>\n",
       "    </tr>\n",
       "    <tr>\n",
       "      <th>7</th>\n",
       "      <td>b8</td>\n",
       "      <td>0.978979</td>\n",
       "      <td>0.798696</td>\n",
       "    </tr>\n",
       "    <tr>\n",
       "      <th>8</th>\n",
       "      <td>b9</td>\n",
       "      <td>0.992165</td>\n",
       "      <td>0.899329</td>\n",
       "    </tr>\n",
       "    <tr>\n",
       "      <th>9</th>\n",
       "      <td>b10</td>\n",
       "      <td>1.000000</td>\n",
       "      <td>1.000000</td>\n",
       "    </tr>\n",
       "  </tbody>\n",
       "</table>\n",
       "</div>"
      ],
      "text/plain": [
       "   x_values     event  non_event\n",
       "10       b0  0.000000   0.000000\n",
       "0        b1  0.505187   0.097051\n",
       "1        b2  0.676269   0.196534\n",
       "2        b3  0.779488   0.296509\n",
       "3        b4  0.849412   0.396729\n",
       "4        b5  0.898754   0.497098\n",
       "5        b6  0.934298   0.597566\n",
       "6        b7  0.960219   0.698106\n",
       "7        b8  0.978979   0.798696\n",
       "8        b9  0.992165   0.899329\n",
       "9       b10  1.000000   1.000000"
      ]
     },
     "execution_count": 75,
     "metadata": {},
     "output_type": "execute_result"
    }
   ],
   "source": [
    "#Add extra bin0 to ks_df\n",
    "ks_df = pd.DataFrame({'x_values' : kstable['bucket']\n",
    "                     ,'event':kstable['event_rate']\n",
    "                     ,'non_event':kstable['non_event_rate']\n",
    "                     })\n",
    "ks_df\n",
    "k={'x_values':\"b0\",'event':0,'non_event':0}\n",
    "ks_bin0 = pd.DataFrame(k,index=[10])\n",
    "ks_df = pd.concat([ks_bin0,ks_df])\n",
    "ks_df"
   ]
  },
  {
   "cell_type": "code",
   "execution_count": 106,
   "id": "58942f9b",
   "metadata": {},
   "outputs": [
    {
     "data": {
      "image/png": "[encoded data removed]",
      "text/plain": [
       "<Figure size 432x288 with 1 Axes>"
      ]
     },
     "metadata": {
      "needs_background": "light"
     },
     "output_type": "display_data"
    }
   ],
   "source": [
    "#Visualize KS Test\n",
    "\n",
    "plt.plot('x_values','event',data=ks_df,marker='o',markerfacecolor='blue',color='skyblue',linewidth=4)\n",
    "plt.plot('x_values','non_event',data=ks_df,marker='o',markerfacecolor='olive',color='olive',linewidth=2)\n",
    "plt.legend()\n",
    "plt.show()"
   ]
  },
  {
   "cell_type": "code",
   "execution_count": null,
   "id": "d7088a76",
   "metadata": {},
   "outputs": [],
   "source": []
  },
  {
   "cell_type": "code",
   "execution_count": null,
   "id": "c075af60",
   "metadata": {},
   "outputs": [],
   "source": []
  }
 ],
 "metadata": {
  "kernelspec": {
   "display_name": "Python 3 (ipykernel)",
   "language": "python",
   "name": "python3"
  },
  "language_info": {
   "codemirror_mode": {
    "name": "ipython",
    "version": 3
   },
   "file_extension": ".py",
   "mimetype": "text/x-python",
   "name": "python",
   "nbconvert_exporter": "python",
   "pygments_lexer": "ipython3",
   "version": "3.9.7"
  }
 },
 "nbformat": 4,
 "nbformat_minor": 5
}
